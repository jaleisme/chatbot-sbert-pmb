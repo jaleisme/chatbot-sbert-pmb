{
 "cells": [
  {
   "cell_type": "markdown",
   "metadata": {},
   "source": [
    "# Install & Load Packages"
   ]
  },
  {
   "cell_type": "code",
   "execution_count": 2,
   "metadata": {},
   "outputs": [
    {
     "name": "stdout",
     "output_type": "stream",
     "text": [
      "Requirement already satisfied: sentence-transformers[train] in c:\\users\\haikal\\appdata\\local\\programs\\python\\python38\\lib\\site-packages (3.0.1)\n",
      "Requirement already satisfied: transformers[torch] in c:\\users\\haikal\\appdata\\local\\programs\\python\\python38\\lib\\site-packages (4.44.0)\n",
      "Requirement already satisfied: accelerate in c:\\users\\haikal\\appdata\\local\\programs\\python\\python38\\lib\\site-packages (0.33.0)\n",
      "Requirement already satisfied: datasets in c:\\users\\haikal\\appdata\\local\\programs\\python\\python38\\lib\\site-packages (2.20.0)\n",
      "Requirement already satisfied: pandas in c:\\users\\haikal\\appdata\\local\\programs\\python\\python38\\lib\\site-packages (2.0.3)\n",
      "Requirement already satisfied: matplotlib in c:\\users\\haikal\\appdata\\local\\programs\\python\\python38\\lib\\site-packages (3.7.5)\n",
      "Requirement already satisfied: seaborn in c:\\users\\haikal\\appdata\\local\\programs\\python\\python38\\lib\\site-packages (0.13.2)\n",
      "Requirement already satisfied: numpy in c:\\users\\haikal\\appdata\\local\\programs\\python\\python38\\lib\\site-packages (1.24.4)\n",
      "Requirement already satisfied: tqdm in c:\\users\\haikal\\appdata\\local\\programs\\python\\python38\\lib\\site-packages (from sentence-transformers[train]) (4.66.5)\n",
      "Requirement already satisfied: torch>=1.11.0 in c:\\users\\haikal\\appdata\\local\\programs\\python\\python38\\lib\\site-packages (from sentence-transformers[train]) (2.4.0)\n",
      "Requirement already satisfied: scikit-learn in c:\\users\\haikal\\appdata\\local\\programs\\python\\python38\\lib\\site-packages (from sentence-transformers[train]) (1.3.2)\n",
      "Requirement already satisfied: scipy in c:\\users\\haikal\\appdata\\local\\programs\\python\\python38\\lib\\site-packages (from sentence-transformers[train]) (1.10.1)\n",
      "Requirement already satisfied: huggingface-hub>=0.15.1 in c:\\users\\haikal\\appdata\\local\\programs\\python\\python38\\lib\\site-packages (from sentence-transformers[train]) (0.24.5)\n",
      "Requirement already satisfied: Pillow in c:\\users\\haikal\\appdata\\local\\programs\\python\\python38\\lib\\site-packages (from sentence-transformers[train]) (10.4.0)\n",
      "Requirement already satisfied: filelock in c:\\users\\haikal\\appdata\\local\\programs\\python\\python38\\lib\\site-packages (from transformers[torch]) (3.15.4)\n",
      "Requirement already satisfied: packaging>=20.0 in c:\\users\\haikal\\appdata\\roaming\\python\\python38\\site-packages (from transformers[torch]) (24.1)\n",
      "Requirement already satisfied: pyyaml>=5.1 in c:\\users\\haikal\\appdata\\local\\programs\\python\\python38\\lib\\site-packages (from transformers[torch]) (6.0.2)\n",
      "Requirement already satisfied: regex!=2019.12.17 in c:\\users\\haikal\\appdata\\local\\programs\\python\\python38\\lib\\site-packages (from transformers[torch]) (2024.7.24)\n",
      "Requirement already satisfied: requests in c:\\users\\haikal\\appdata\\local\\programs\\python\\python38\\lib\\site-packages (from transformers[torch]) (2.32.3)\n",
      "Requirement already satisfied: safetensors>=0.4.1 in c:\\users\\haikal\\appdata\\local\\programs\\python\\python38\\lib\\site-packages (from transformers[torch]) (0.4.4)\n",
      "Requirement already satisfied: tokenizers<0.20,>=0.19 in c:\\users\\haikal\\appdata\\local\\programs\\python\\python38\\lib\\site-packages (from transformers[torch]) (0.19.1)\n",
      "Requirement already satisfied: psutil in c:\\users\\haikal\\appdata\\roaming\\python\\python38\\site-packages (from accelerate) (6.0.0)\n",
      "Requirement already satisfied: pyarrow>=15.0.0 in c:\\users\\haikal\\appdata\\local\\programs\\python\\python38\\lib\\site-packages (from datasets) (17.0.0)\n",
      "Requirement already satisfied: pyarrow-hotfix in c:\\users\\haikal\\appdata\\local\\programs\\python\\python38\\lib\\site-packages (from datasets) (0.6)\n",
      "Requirement already satisfied: dill<0.3.9,>=0.3.0 in c:\\users\\haikal\\appdata\\local\\programs\\python\\python38\\lib\\site-packages (from datasets) (0.3.8)\n",
      "Requirement already satisfied: xxhash in c:\\users\\haikal\\appdata\\local\\programs\\python\\python38\\lib\\site-packages (from datasets) (3.4.1)\n",
      "Requirement already satisfied: multiprocess in c:\\users\\haikal\\appdata\\local\\programs\\python\\python38\\lib\\site-packages (from datasets) (0.70.16)\n",
      "Requirement already satisfied: fsspec[http]<=2024.5.0,>=2023.1.0 in c:\\users\\haikal\\appdata\\local\\programs\\python\\python38\\lib\\site-packages (from datasets) (2024.5.0)\n",
      "Requirement already satisfied: aiohttp in c:\\users\\haikal\\appdata\\local\\programs\\python\\python38\\lib\\site-packages (from datasets) (3.10.1)\n",
      "Requirement already satisfied: python-dateutil>=2.8.2 in c:\\users\\haikal\\appdata\\roaming\\python\\python38\\site-packages (from pandas) (2.9.0.post0)\n",
      "Requirement already satisfied: pytz>=2020.1 in c:\\users\\haikal\\appdata\\local\\programs\\python\\python38\\lib\\site-packages (from pandas) (2024.1)\n",
      "Requirement already satisfied: tzdata>=2022.1 in c:\\users\\haikal\\appdata\\local\\programs\\python\\python38\\lib\\site-packages (from pandas) (2024.1)\n",
      "Requirement already satisfied: contourpy>=1.0.1 in c:\\users\\haikal\\appdata\\local\\programs\\python\\python38\\lib\\site-packages (from matplotlib) (1.1.1)\n",
      "Requirement already satisfied: cycler>=0.10 in c:\\users\\haikal\\appdata\\local\\programs\\python\\python38\\lib\\site-packages (from matplotlib) (0.12.1)\n",
      "Requirement already satisfied: fonttools>=4.22.0 in c:\\users\\haikal\\appdata\\local\\programs\\python\\python38\\lib\\site-packages (from matplotlib) (4.53.1)\n",
      "Requirement already satisfied: kiwisolver>=1.0.1 in c:\\users\\haikal\\appdata\\local\\programs\\python\\python38\\lib\\site-packages (from matplotlib) (1.4.5)\n",
      "Requirement already satisfied: pyparsing>=2.3.1 in c:\\users\\haikal\\appdata\\local\\programs\\python\\python38\\lib\\site-packages (from matplotlib) (3.1.2)\n",
      "Requirement already satisfied: importlib-resources>=3.2.0 in c:\\users\\haikal\\appdata\\local\\programs\\python\\python38\\lib\\site-packages (from matplotlib) (6.4.0)\n",
      "Requirement already satisfied: aiohappyeyeballs>=2.3.0 in c:\\users\\haikal\\appdata\\local\\programs\\python\\python38\\lib\\site-packages (from aiohttp->datasets) (2.3.5)\n",
      "Requirement already satisfied: aiosignal>=1.1.2 in c:\\users\\haikal\\appdata\\local\\programs\\python\\python38\\lib\\site-packages (from aiohttp->datasets) (1.3.1)\n",
      "Requirement already satisfied: attrs>=17.3.0 in c:\\users\\haikal\\appdata\\local\\programs\\python\\python38\\lib\\site-packages (from aiohttp->datasets) (24.2.0)\n",
      "Requirement already satisfied: frozenlist>=1.1.1 in c:\\users\\haikal\\appdata\\local\\programs\\python\\python38\\lib\\site-packages (from aiohttp->datasets) (1.4.1)\n",
      "Requirement already satisfied: multidict<7.0,>=4.5 in c:\\users\\haikal\\appdata\\local\\programs\\python\\python38\\lib\\site-packages (from aiohttp->datasets) (6.0.5)\n",
      "Requirement already satisfied: yarl<2.0,>=1.0 in c:\\users\\haikal\\appdata\\local\\programs\\python\\python38\\lib\\site-packages (from aiohttp->datasets) (1.9.4)\n",
      "Requirement already satisfied: async-timeout<5.0,>=4.0 in c:\\users\\haikal\\appdata\\local\\programs\\python\\python38\\lib\\site-packages (from aiohttp->datasets) (4.0.3)\n",
      "Requirement already satisfied: typing-extensions>=3.7.4.3 in c:\\users\\haikal\\appdata\\local\\programs\\python\\python38\\lib\\site-packages (from huggingface-hub>=0.15.1->sentence-transformers[train]) (4.12.2)\n",
      "Requirement already satisfied: zipp>=3.1.0 in c:\\users\\haikal\\appdata\\roaming\\python\\python38\\site-packages (from importlib-resources>=3.2.0->matplotlib) (3.19.2)\n",
      "Requirement already satisfied: six>=1.5 in c:\\users\\haikal\\appdata\\roaming\\python\\python38\\site-packages (from python-dateutil>=2.8.2->pandas) (1.16.0)\n",
      "Requirement already satisfied: charset-normalizer<4,>=2 in c:\\users\\haikal\\appdata\\local\\programs\\python\\python38\\lib\\site-packages (from requests->transformers[torch]) (3.3.2)\n",
      "Requirement already satisfied: idna<4,>=2.5 in c:\\users\\haikal\\appdata\\local\\programs\\python\\python38\\lib\\site-packages (from requests->transformers[torch]) (3.7)\n",
      "Requirement already satisfied: urllib3<3,>=1.21.1 in c:\\users\\haikal\\appdata\\local\\programs\\python\\python38\\lib\\site-packages (from requests->transformers[torch]) (2.2.2)\n",
      "Requirement already satisfied: certifi>=2017.4.17 in c:\\users\\haikal\\appdata\\local\\programs\\python\\python38\\lib\\site-packages (from requests->transformers[torch]) (2024.7.4)\n",
      "Requirement already satisfied: sympy in c:\\users\\haikal\\appdata\\local\\programs\\python\\python38\\lib\\site-packages (from torch>=1.11.0->sentence-transformers[train]) (1.13.1)\n",
      "Requirement already satisfied: networkx in c:\\users\\haikal\\appdata\\local\\programs\\python\\python38\\lib\\site-packages (from torch>=1.11.0->sentence-transformers[train]) (3.1)\n",
      "Requirement already satisfied: jinja2 in c:\\users\\haikal\\appdata\\local\\programs\\python\\python38\\lib\\site-packages (from torch>=1.11.0->sentence-transformers[train]) (3.1.4)\n",
      "Requirement already satisfied: colorama in c:\\users\\haikal\\appdata\\roaming\\python\\python38\\site-packages (from tqdm->sentence-transformers[train]) (0.4.6)\n",
      "Requirement already satisfied: joblib>=1.1.1 in c:\\users\\haikal\\appdata\\local\\programs\\python\\python38\\lib\\site-packages (from scikit-learn->sentence-transformers[train]) (1.4.2)\n",
      "Requirement already satisfied: threadpoolctl>=2.0.0 in c:\\users\\haikal\\appdata\\local\\programs\\python\\python38\\lib\\site-packages (from scikit-learn->sentence-transformers[train]) (3.5.0)\n",
      "Requirement already satisfied: MarkupSafe>=2.0 in c:\\users\\haikal\\appdata\\local\\programs\\python\\python38\\lib\\site-packages (from jinja2->torch>=1.11.0->sentence-transformers[train]) (2.1.5)\n",
      "Requirement already satisfied: mpmath<1.4,>=1.1.0 in c:\\users\\haikal\\appdata\\local\\programs\\python\\python38\\lib\\site-packages (from sympy->torch>=1.11.0->sentence-transformers[train]) (1.3.0)\n",
      "Note: you may need to restart the kernel to use updated packages.\n"
     ]
    },
    {
     "name": "stderr",
     "output_type": "stream",
     "text": [
      "\n",
      "[notice] A new release of pip is available: 23.1.2 -> 24.2\n",
      "[notice] To update, run: python.exe -m pip install --upgrade pip\n"
     ]
    }
   ],
   "source": [
    "%pip install -U \"sentence-transformers[train]\" \" transformers[torch]\" accelerate datasets pandas matplotlib seaborn numpy"
   ]
  },
  {
   "cell_type": "code",
   "execution_count": 3,
   "metadata": {},
   "outputs": [
    {
     "name": "stderr",
     "output_type": "stream",
     "text": [
      "c:\\Users\\Haikal\\AppData\\Local\\Programs\\Python\\Python38\\lib\\site-packages\\tqdm\\auto.py:21: TqdmWarning: IProgress not found. Please update jupyter and ipywidgets. See https://ipywidgets.readthedocs.io/en/stable/user_install.html\n",
      "  from .autonotebook import tqdm as notebook_tqdm\n"
     ]
    }
   ],
   "source": [
    "# Import libraries\n",
    "from datasets import load_dataset, Dataset\n",
    "from sentence_transformers import (\n",
    "    SentenceTransformer,\n",
    "    SentenceTransformerTrainer,\n",
    "    SentenceTransformerTrainingArguments\n",
    ")\n",
    "from sentence_transformers.losses import CoSENTLoss\n",
    "from sentence_transformers.training_args import BatchSamplers\n",
    "from sentence_transformers.evaluation import EmbeddingSimilarityEvaluator, SimilarityFunction\n",
    "import pandas as pd\n",
    "import numpy as np"
   ]
  },
  {
   "cell_type": "markdown",
   "metadata": {},
   "source": [
    "# Fine-tuning Model"
   ]
  },
  {
   "cell_type": "code",
   "execution_count": 38,
   "metadata": {},
   "outputs": [
    {
     "name": "stderr",
     "output_type": "stream",
     "text": [
      "c:\\Users\\Haikal\\AppData\\Local\\Programs\\Python\\Python38\\lib\\site-packages\\transformers\\tokenization_utils_base.py:1601: FutureWarning: `clean_up_tokenization_spaces` was not set. It will be set to `True` by default. This behavior will be depracted in transformers v4.45, and will be then set to `False` by default. For more details check this issue: https://github.com/huggingface/transformers/issues/31884\n",
      "  warnings.warn(\n"
     ]
    }
   ],
   "source": [
    "# Define model\n",
    "model = SentenceTransformer(\"firqaaa/indo-sentence-bert-base\")\n",
    "\n",
    "# Define loss function (CoSENTLoss | Cosine Sentence Loss -> Returning float similarity score)\n",
    "loss = CoSENTLoss(model)"
   ]
  },
  {
   "cell_type": "code",
   "execution_count": 39,
   "metadata": {},
   "outputs": [],
   "source": [
    "# Specify training args\n",
    "args = SentenceTransformerTrainingArguments(\n",
    "    output_dir=\"fine-tuned/sbert-fine-tuned-chatPMB-lite\",\n",
    "    num_train_epochs=1,\n",
    "    per_device_train_batch_size=24,\n",
    "    per_device_eval_batch_size=24,\n",
    "    learning_rate=2e-5,\n",
    "    warmup_ratio=0.1,\n",
    "    batch_sampler=BatchSamplers.NO_DUPLICATES,\n",
    "    eval_strategy=\"steps\",\n",
    "    eval_steps=100,\n",
    "    save_strategy=\"steps\",\n",
    "    save_steps=100,\n",
    "    save_total_limit=2,\n",
    "    logging_steps=100,\n",
    ")"
   ]
  },
  {
   "cell_type": "code",
   "execution_count": 40,
   "metadata": {},
   "outputs": [
    {
     "name": "stdout",
     "output_type": "stream",
     "text": [
      "(558,) (558,)\n"
     ]
    }
   ],
   "source": [
    "# Creating eval dataset\n",
    "train_patterns = pd.read_csv('data/preprocessed-data-v2.csv')['pattern']\n",
    "test_patterns = pd.read_csv('data/dataset-question-v2.csv')['pattern']\n",
    "# test_patterns = test_patterns.iloc[:-154]\n",
    "print(train_patterns.shape, test_patterns.shape)"
   ]
  },
  {
   "cell_type": "code",
   "execution_count": 41,
   "metadata": {},
   "outputs": [],
   "source": [
    "embed_train = model.encode(train_patterns)\n",
    "embed_test = model.encode(test_patterns)"
   ]
  },
  {
   "cell_type": "code",
   "execution_count": 42,
   "metadata": {},
   "outputs": [
    {
     "data": {
      "text/html": [
       "<div>\n",
       "<style scoped>\n",
       "    .dataframe tbody tr th:only-of-type {\n",
       "        vertical-align: middle;\n",
       "    }\n",
       "\n",
       "    .dataframe tbody tr th {\n",
       "        vertical-align: top;\n",
       "    }\n",
       "\n",
       "    .dataframe thead th {\n",
       "        text-align: right;\n",
       "    }\n",
       "</style>\n",
       "<table border=\"1\" class=\"dataframe\">\n",
       "  <thead>\n",
       "    <tr style=\"text-align: right;\">\n",
       "      <th></th>\n",
       "      <th>sentence_1</th>\n",
       "      <th>sentence_2</th>\n",
       "      <th>label</th>\n",
       "    </tr>\n",
       "  </thead>\n",
       "  <tbody>\n",
       "    <tr>\n",
       "      <th>553</th>\n",
       "      <td>program beasiswa sedia uin sunan gunung djati ...</td>\n",
       "      <td>Apakah program beasiswa disediakan oleh UIN Su...</td>\n",
       "      <td>0.903670</td>\n",
       "    </tr>\n",
       "    <tr>\n",
       "      <th>554</th>\n",
       "      <td>program beasiswa uin sunan gunung djati bandun...</td>\n",
       "      <td>Program beasiswa di UIN Sunan Gunung Djati Ban...</td>\n",
       "      <td>0.887859</td>\n",
       "    </tr>\n",
       "    <tr>\n",
       "      <th>555</th>\n",
       "      <td>beasiswa uin sunan gunung djati bandung ada</td>\n",
       "      <td>Apakah beasiswa di UIN Sunan Gunung Djati Band...</td>\n",
       "      <td>0.888745</td>\n",
       "    </tr>\n",
       "    <tr>\n",
       "      <th>556</th>\n",
       "      <td>program beasiswa uin sunan gunung djati bandun...</td>\n",
       "      <td>Program beasiswa di UIN Sunan Gunung Djati Ban...</td>\n",
       "      <td>0.888634</td>\n",
       "    </tr>\n",
       "    <tr>\n",
       "      <th>557</th>\n",
       "      <td>beasiswa uin sunan gunung djati bandung beri</td>\n",
       "      <td>Apakah beasiswa di UIN Sunan Gunung Djati Band...</td>\n",
       "      <td>0.892302</td>\n",
       "    </tr>\n",
       "  </tbody>\n",
       "</table>\n",
       "</div>"
      ],
      "text/plain": [
       "                                            sentence_1  \\\n",
       "553  program beasiswa sedia uin sunan gunung djati ...   \n",
       "554  program beasiswa uin sunan gunung djati bandun...   \n",
       "555        beasiswa uin sunan gunung djati bandung ada   \n",
       "556  program beasiswa uin sunan gunung djati bandun...   \n",
       "557       beasiswa uin sunan gunung djati bandung beri   \n",
       "\n",
       "                                            sentence_2     label  \n",
       "553  Apakah program beasiswa disediakan oleh UIN Su...  0.903670  \n",
       "554  Program beasiswa di UIN Sunan Gunung Djati Ban...  0.887859  \n",
       "555  Apakah beasiswa di UIN Sunan Gunung Djati Band...  0.888745  \n",
       "556  Program beasiswa di UIN Sunan Gunung Djati Ban...  0.888634  \n",
       "557  Apakah beasiswa di UIN Sunan Gunung Djati Band...  0.892302  "
      ]
     },
     "execution_count": 42,
     "metadata": {},
     "output_type": "execute_result"
    }
   ],
   "source": [
    "scores = []\n",
    "sentences_1 = []\n",
    "sentences_2 = []\n",
    "\n",
    "for i in range(len(test_patterns)):\n",
    "    data = model.similarity(embed_train[int(i)], embed_test[int(i)])\n",
    "    data = float(data[0][0])\n",
    "    s1 = train_patterns[int(i)]\n",
    "    s2 = test_patterns[int(i)]\n",
    "    sentences_1.append(s1)\n",
    "    sentences_2.append(s2)\n",
    "    scores.append(data)\n",
    "\n",
    "df = pd.DataFrame({\n",
    "    \"sentence_1\": sentences_1,\n",
    "    \"sentence_2\": sentences_2,\n",
    "    \"label\": scores,\n",
    "})\n",
    "df.to_csv('data/fine-tuned-dataset.csv')\n",
    "df.tail()"
   ]
  },
  {
   "cell_type": "code",
   "execution_count": 43,
   "metadata": {},
   "outputs": [
    {
     "name": "stderr",
     "output_type": "stream",
     "text": [
      "\n",
      "\u001b[A\n",
      "\u001b[A\n",
      "\u001b[A\n",
      "\u001b[A\n",
      "\u001b[A\n",
      "\u001b[A\n",
      "\u001b[A\n",
      "\u001b[A\n",
      "\u001b[A\n",
      "\u001b[A\n",
      "\u001b[A\n",
      "\u001b[A\n",
      "\u001b[A\n",
      "\u001b[A\n",
      "\u001b[A\n",
      "\u001b[A\n",
      "\u001b[A\n",
      "\u001b[A\n",
      "\u001b[A\n",
      "\u001b[A\n",
      "\u001b[A\n",
      "\u001b[A\n",
      "\u001b[A\n",
      "\u001b[A\n",
      "\u001b[A\n",
      "\u001b[A\n",
      "\u001b[A\n",
      "\u001b[A\n",
      "\u001b[A\n",
      "\u001b[A\n",
      "\u001b[A\n",
      "\u001b[A\n",
      "\u001b[A\n",
      "\u001b[A\n",
      "\u001b[A\n",
      "Batches: 100%|██████████| 35/35 [00:19<00:00,  1.81it/s]\n",
      "\n",
      "\u001b[A\n",
      "\u001b[A\n",
      "\u001b[A\n",
      "\u001b[A\n",
      "\u001b[A\n",
      "\u001b[A\n",
      "\u001b[A\n",
      "\u001b[A\n",
      "\u001b[A\n",
      "\u001b[A\n",
      "\u001b[A\n",
      "\u001b[A\n",
      "\u001b[A\n",
      "\u001b[A\n",
      "\u001b[A\n",
      "\u001b[A\n",
      "\u001b[A\n",
      "\u001b[A\n",
      "\u001b[A\n",
      "\u001b[A\n",
      "\u001b[A\n",
      "\u001b[A\n",
      "\u001b[A\n",
      "\u001b[A\n",
      "\u001b[A\n",
      "\u001b[A\n",
      "\u001b[A\n",
      "\u001b[A\n",
      "\u001b[A\n",
      "\u001b[A\n",
      "\u001b[A\n",
      "\u001b[A\n",
      "\u001b[A\n",
      "\u001b[A\n",
      "\u001b[A\n",
      "Batches: 100%|██████████| 35/35 [00:22<00:00,  1.57it/s]\n"
     ]
    },
    {
     "data": {
      "text/plain": [
       "{'train-evaluator_pearson_cosine': 0.9999999999984652,\n",
       " 'train-evaluator_spearman_cosine': 0.9999993956485574,\n",
       " 'train-evaluator_pearson_manhattan': 0.9754313537197102,\n",
       " 'train-evaluator_spearman_manhattan': 0.9992904394150622,\n",
       " 'train-evaluator_pearson_euclidean': 0.9749967817818792,\n",
       " 'train-evaluator_spearman_euclidean': 0.9999992747782398,\n",
       " 'train-evaluator_pearson_dot': 0.9999999999990659,\n",
       " 'train-evaluator_spearman_dot': 0.9999993956487196,\n",
       " 'train-evaluator_pearson_max': 0.9999999999990659,\n",
       " 'train-evaluator_spearman_max': 0.9999993956487196}"
      ]
     },
     "execution_count": 43,
     "metadata": {},
     "output_type": "execute_result"
    }
   ],
   "source": [
    "# Create evaluator & evaluate the base model\n",
    "dev_evaluator = EmbeddingSimilarityEvaluator(\n",
    "    sentences1=df[\"sentence_1\"],\n",
    "    sentences2=df[\"sentence_2\"],\n",
    "    scores=df[\"label\"],\n",
    "    main_similarity=SimilarityFunction.COSINE,\n",
    "    show_progress_bar=True,\n",
    "    precision=\"float32\",\n",
    "    name=\"train-evaluator\",\n",
    ")\n",
    "dev_evaluator(model)"
   ]
  },
  {
   "cell_type": "code",
   "execution_count": 44,
   "metadata": {},
   "outputs": [
    {
     "data": {
      "text/plain": [
       "(558, 3)"
      ]
     },
     "execution_count": 44,
     "metadata": {},
     "output_type": "execute_result"
    }
   ],
   "source": [
    "df.shape"
   ]
  },
  {
   "cell_type": "code",
   "execution_count": 45,
   "metadata": {},
   "outputs": [
    {
     "data": {
      "text/plain": [
       "Dataset({\n",
       "    features: ['sentence_1', 'sentence_2', 'label'],\n",
       "    num_rows: 558\n",
       "})"
      ]
     },
     "execution_count": 45,
     "metadata": {},
     "output_type": "execute_result"
    }
   ],
   "source": [
    "training_data = Dataset.from_dict(df)\n",
    "training_data"
   ]
  },
  {
   "cell_type": "code",
   "execution_count": 46,
   "metadata": {},
   "outputs": [
    {
     "name": "stderr",
     "output_type": "stream",
     "text": [
      "\n",
      "\u001b[A\n",
      "\u001b[A\n",
      "\u001b[A\n",
      "\u001b[A\n",
      "\u001b[A\n",
      "\u001b[A\n",
      "\u001b[A\n",
      "\u001b[A\n",
      "\u001b[A\n",
      "\u001b[A\n",
      "\u001b[A\n",
      "\u001b[A\n",
      "\u001b[A\n",
      "\u001b[A\n",
      "\u001b[A\n",
      "\u001b[A\n",
      "\u001b[A\n",
      "\u001b[A\n",
      "\u001b[A\n",
      "\u001b[A\n",
      "\u001b[A\n",
      "\u001b[A\n",
      "\u001b[A\n",
      "\u001b[A\n",
      "\u001b[A\n",
      "\n",
      "\u001b[A\u001b[A\n",
      "\n",
      "\u001b[A\u001b[A\n",
      "\n",
      "\u001b[A\u001b[A\n",
      "\n",
      "\u001b[A\u001b[A                                         \n",
      "                                                 \n",
      "100%|██████████| 24/24 [03:02<00:00,  7.59s/it]t]"
     ]
    },
    {
     "name": "stdout",
     "output_type": "stream",
     "text": [
      "{'train_runtime': 182.1946, 'train_samples_per_second': 3.063, 'train_steps_per_second': 0.132, 'train_loss': 4.762681007385254, 'epoch': 1.0}\n"
     ]
    },
    {
     "name": "stderr",
     "output_type": "stream",
     "text": [
      "\n"
     ]
    },
    {
     "data": {
      "text/plain": [
       "TrainOutput(global_step=24, training_loss=4.762681007385254, metrics={'train_runtime': 182.1946, 'train_samples_per_second': 3.063, 'train_steps_per_second': 0.132, 'total_flos': 0.0, 'train_loss': 4.762681007385254, 'epoch': 1.0})"
      ]
     },
     "execution_count": 46,
     "metadata": {},
     "output_type": "execute_result"
    }
   ],
   "source": [
    "trainer = SentenceTransformerTrainer(\n",
    "    model=model,\n",
    "    args=args,\n",
    "    train_dataset=training_data,\n",
    "    # eval_dataset=eval_dataset,\n",
    "    loss=loss,\n",
    "    evaluator=dev_evaluator,\n",
    ")\n",
    "trainer.train()"
   ]
  },
  {
   "cell_type": "code",
   "execution_count": 47,
   "metadata": {},
   "outputs": [],
   "source": [
    "model.save_pretrained(\"fine-tuned/models/chatPMB-pretrained-3\")"
   ]
  },
  {
   "cell_type": "markdown",
   "metadata": {},
   "source": [
    "# Get Tags by index"
   ]
  },
  {
   "cell_type": "code",
   "execution_count": 48,
   "metadata": {},
   "outputs": [
    {
     "data": {
      "text/plain": [
       "0         gr_hi\n",
       "1         gr_ha\n",
       "2         gr_pa\n",
       "3         gr_si\n",
       "4         gr_so\n",
       "         ...   \n",
       "541    beasiswa\n",
       "542    beasiswa\n",
       "543    beasiswa\n",
       "544    beasiswa\n",
       "545    beasiswa\n",
       "Name: tag, Length: 546, dtype: object"
      ]
     },
     "execution_count": 48,
     "metadata": {},
     "output_type": "execute_result"
    }
   ],
   "source": [
    "labels = pd.read_csv('data/dataset-question-v2.csv')\n",
    "labels = labels.iloc[:-12]\n",
    "labels = labels['tag']\n",
    "labels"
   ]
  },
  {
   "cell_type": "markdown",
   "metadata": {},
   "source": [
    "# Usage of Pretrained Model"
   ]
  },
  {
   "cell_type": "code",
   "execution_count": 49,
   "metadata": {},
   "outputs": [],
   "source": [
    "model = SentenceTransformer(\"fine-tuned/models/chatPMB-pretrained-3\")"
   ]
  },
  {
   "cell_type": "code",
   "execution_count": 52,
   "metadata": {},
   "outputs": [],
   "source": [
    "sentence = model.encode(\"berikan saya informasi seputar jurusan yang tersedia di UIN Bandung\")\n",
    "to_test = model.encode(df['sentence_2'])"
   ]
  },
  {
   "cell_type": "code",
   "execution_count": 53,
   "metadata": {},
   "outputs": [
    {
     "data": {
      "text/plain": [
       "(451,\n",
       " 'portal_pmb',\n",
       " array([[0.18736595, 0.11880892, 0.1242495 , 0.12559177, 0.1277437 ,\n",
       "         0.08699293, 0.55312836, 0.572655  , 0.56964266, 0.54294395,\n",
       "         0.52441937, 0.50616586, 0.4651739 , 0.56614757, 0.54704666,\n",
       "         0.6884822 , 0.62849593, 0.46074635, 0.58449197, 0.43678868,\n",
       "         0.47267354, 0.4620644 , 0.54724437, 0.48340786, 0.51290834,\n",
       "         0.6049539 , 0.48184198, 0.5259249 , 0.58709013, 0.59267443,\n",
       "         0.50119734, 0.5464079 , 0.5603583 , 0.5822822 , 0.52441937,\n",
       "         0.54704666, 0.5400777 , 0.46074635, 0.56964266, 0.45083416,\n",
       "         0.46101725, 0.51525605, 0.5265329 , 0.5822822 , 0.4351947 ,\n",
       "         0.5365207 , 0.5059828 , 0.578082  , 0.5015778 , 0.5443532 ,\n",
       "         0.53259087, 0.5335934 , 0.56620836, 0.47344503, 0.46369505,\n",
       "         0.5756334 , 0.48916224, 0.6273665 , 0.6197324 , 0.5795686 ,\n",
       "         0.54166627, 0.5372874 , 0.54149604, 0.47164226, 0.5908709 ,\n",
       "         0.49474216, 0.555352  , 0.6080853 , 0.5779739 , 0.52568346,\n",
       "         0.5911858 , 0.5334302 , 0.5041167 , 0.54346716, 0.5074231 ,\n",
       "         0.6075125 , 0.47007328, 0.5304086 , 0.6126207 , 0.5872438 ,\n",
       "         0.53398657, 0.58219206, 0.5977572 , 0.62864554, 0.61032474,\n",
       "         0.4280833 , 0.5197513 , 0.4968063 , 0.5756331 , 0.6222143 ,\n",
       "         0.47973448, 0.60294217, 0.52160096, 0.64220214, 0.49753886,\n",
       "         0.5960897 , 0.59128714, 0.47973448, 0.5026104 , 0.6414299 ,\n",
       "         0.57957006, 0.4280833 , 0.5919247 , 0.6058985 , 0.5872438 ,\n",
       "         0.50007886, 0.58219206, 0.5724649 , 0.4673051 , 0.39187825,\n",
       "         0.30723238, 0.2906454 , 0.3935815 , 0.32040048, 0.2906454 ,\n",
       "         0.3774847 , 0.3390969 , 0.2416565 , 0.37646848, 0.3898627 ,\n",
       "         0.38894284, 0.37427485, 0.36779973, 0.39076167, 0.3869118 ,\n",
       "         0.36327192, 0.3774847 , 0.37646848, 0.3390969 , 0.3809775 ,\n",
       "         0.3935815 , 0.3861286 , 0.28976887, 0.39076167, 0.5349939 ,\n",
       "         0.25675273, 0.36054987, 0.35789198, 0.36690962, 0.48715478,\n",
       "         0.31616157, 0.3244715 , 0.27828652, 0.3352629 , 0.43388987,\n",
       "         0.22862113, 0.48506227, 0.45595223, 0.35608464, 0.35512516,\n",
       "         0.50932807, 0.22512877, 0.38610256, 0.31771582, 0.3848161 ,\n",
       "         0.3372808 , 0.45020595, 0.43292207, 0.39564514, 0.27918923,\n",
       "         0.339304  , 0.28475434, 0.3180499 , 0.33893883, 0.25158572,\n",
       "         0.2591176 , 0.34865117, 0.3911013 , 0.28182614, 0.39461112,\n",
       "         0.33923894, 0.2952075 , 0.31849656, 0.33163851, 0.37678337,\n",
       "         0.31078327, 0.4324612 , 0.25048143, 0.43414235, 0.34634367,\n",
       "         0.34673214, 0.33303046, 0.4281668 , 0.39564514, 0.3886335 ,\n",
       "         0.3078568 , 0.27280623, 0.31849658, 0.34634367, 0.3377878 ,\n",
       "         0.2591176 , 0.3194118 , 0.31676888, 0.25048143, 0.34294   ,\n",
       "         0.3377878 , 0.34865117, 0.29808426, 0.2828186 , 0.3959502 ,\n",
       "         0.37678337, 0.36593032, 0.37056136, 0.37433228, 0.30411965,\n",
       "         0.406204  , 0.34290284, 0.30017084, 0.35722813, 0.31515092,\n",
       "         0.30778888, 0.3859685 , 0.21449448, 0.43908563, 0.39955062,\n",
       "         0.31614584, 0.29726315, 0.338606  , 0.2973845 , 0.2616644 ,\n",
       "         0.43064547, 0.38490507, 0.4174378 , 0.3033468 , 0.37709445,\n",
       "         0.30348605, 0.43178666, 0.2771696 , 0.2691822 , 0.27142626,\n",
       "         0.32463986, 0.292785  , 0.39295948, 0.3800484 , 0.37002563,\n",
       "         0.4281493 , 0.38481304, 0.39221787, 0.4308343 , 0.37798554,\n",
       "         0.3738921 , 0.31889838, 0.30778888, 0.34537947, 0.2963382 ,\n",
       "         0.31071764, 0.30799475, 0.29993817, 0.31645766, 0.285144  ,\n",
       "         0.26796573, 0.30176735, 0.38940123, 0.383496  , 0.42465258,\n",
       "         0.295324  , 0.322039  , 0.30429837, 0.40212652, 0.43578026,\n",
       "         0.45495445, 0.37178725, 0.3175424 , 0.33736184, 0.4147847 ,\n",
       "         0.29633704, 0.4189638 , 0.40362817, 0.4972308 , 0.38784528,\n",
       "         0.421306  , 0.39994392, 0.40396187, 0.3953751 , 0.47099257,\n",
       "         0.40362817, 0.3870781 , 0.41487646, 0.45495445, 0.40016848,\n",
       "         0.42381585, 0.38784528, 0.45308024, 0.3778243 , 0.41704392,\n",
       "         0.4152978 , 0.31632203, 0.3551175 , 0.2511557 , 0.3175424 ,\n",
       "         0.24991491, 0.30767354, 0.29850513, 0.34344977, 0.2654011 ,\n",
       "         0.2949786 , 0.33133155, 0.28166506, 0.41239876, 0.27543384,\n",
       "         0.38818902, 0.30279383, 0.32992017, 0.30833593, 0.30842757,\n",
       "         0.37523964, 0.33108848, 0.31874466, 0.36339605, 0.34735522,\n",
       "         0.40010703, 0.36738163, 0.3561642 , 0.35231835, 0.37112075,\n",
       "         0.40827936, 0.35556477, 0.31735143, 0.3667216 , 0.35978177,\n",
       "         0.3561642 , 0.35590482, 0.40010703, 0.34735522, 0.36038488,\n",
       "         0.2869048 , 0.35464042, 0.35833105, 0.35508662, 0.39969772,\n",
       "         0.37112075, 0.276735  , 0.4049929 , 0.33533096, 0.3451171 ,\n",
       "         0.27612948, 0.30874455, 0.37112075, 0.35556477, 0.36695498,\n",
       "         0.40321195, 0.3561642 , 0.35508662, 0.35590482, 0.276735  ,\n",
       "         0.36695498, 0.2774731 , 0.3451171 , 0.35556477, 0.36695498,\n",
       "         0.36038488, 0.35590482, 0.36738163, 0.39969772, 0.33533096,\n",
       "         0.2852344 , 0.35556477, 0.30874455, 0.50351167, 0.4539351 ,\n",
       "         0.46246985, 0.48075008, 0.5365057 , 0.41168135, 0.44786856,\n",
       "         0.42283058, 0.5089176 , 0.4914776 , 0.5871701 , 0.45350963,\n",
       "         0.44103506, 0.5197403 , 0.5290201 , 0.5052277 , 0.5370389 ,\n",
       "         0.42245618, 0.3045324 , 0.4197697 , 0.50218666, 0.48301706,\n",
       "         0.54647034, 0.46485305, 0.36124802, 0.45828718, 0.51623994,\n",
       "         0.4469416 , 0.46327627, 0.5565495 , 0.48447302, 0.4774454 ,\n",
       "         0.45200914, 0.4696654 , 0.5183772 , 0.46437073, 0.44704485,\n",
       "         0.5395607 , 0.501963  , 0.474227  , 0.501015  , 0.47591543,\n",
       "         0.4774454 , 0.54786456, 0.4577024 , 0.45965412, 0.48645413,\n",
       "         0.47889584, 0.483575  , 0.45877385, 0.5903063 , 0.56059206,\n",
       "         0.58588684, 0.5485933 , 0.5768584 , 0.544483  , 0.5935126 ,\n",
       "         0.5866981 , 0.49116373, 0.6009295 , 0.5420679 , 0.5111923 ,\n",
       "         0.55072236, 0.60764873, 0.5994479 , 0.55663216, 0.59355533,\n",
       "         0.5485933 , 0.5861615 , 0.6046541 , 0.4773839 , 0.5816317 ,\n",
       "         0.56284714, 0.57951033, 0.5866981 , 0.6909939 , 0.68739164,\n",
       "         0.68977404, 0.692499  , 0.7024367 , 0.6901363 , 0.69364274,\n",
       "         0.692135  , 0.7024367 , 0.70100087, 0.6871656 , 0.69364274,\n",
       "         0.69440806, 0.692499  , 0.6917555 , 0.6887531 , 0.69323075,\n",
       "         0.692135  , 0.7068036 , 0.6887531 , 0.692135  , 0.6909939 ,\n",
       "         0.6917555 , 0.6901363 , 0.7054454 , 0.30767018, 0.3040017 ,\n",
       "         0.31714755, 0.3078047 , 0.37109673, 0.3149956 , 0.32117784,\n",
       "         0.30762422, 0.3511854 , 0.30965683, 0.38193947, 0.31927747,\n",
       "         0.31395686, 0.379899  , 0.31121606, 0.31644925, 0.37453955,\n",
       "         0.32364097, 0.35801655, 0.3113039 , 0.31501913, 0.38836038,\n",
       "         0.30732203, 0.313555  , 0.303241  , 0.31714755, 0.30750358,\n",
       "         0.3193956 , 0.3149956 , 0.3511854 , 0.29978782, 0.31121606,\n",
       "         0.40308288, 0.37453955, 0.3915767 , 0.3565303 , 0.31490135,\n",
       "         0.38836038, 0.303241  , 0.38261643, 0.35557666, 0.38077003,\n",
       "         0.3983628 , 0.36285302, 0.3922766 , 0.38613787, 0.30675423,\n",
       "         0.36699334, 0.313555  , 0.315537  , 0.33470935, 0.4608444 ,\n",
       "         0.30882156, 0.46736255, 0.30416596, 0.5162319 , 0.3263988 ,\n",
       "         0.4608444 , 0.33626875, 0.4583762 , 0.30533087, 0.4478349 ,\n",
       "         0.29688984, 0.5162319 , 0.3358736 , 0.48710704, 0.32966307,\n",
       "         0.47220448, 0.2891043 , 0.5082951 , 0.3678633 , 0.48668253,\n",
       "         0.3086047 , 0.4494956 , 0.3750838 , 0.32250637, 0.36341393,\n",
       "         0.3565027 , 0.35872275, 0.28864774, 0.51394427, 0.28886065,\n",
       "         0.3643098 , 0.26453054, 0.3958696 , 0.336797  , 0.50136936,\n",
       "         0.31835935, 0.3830514 , 0.30308545, 0.30559206, 0.3446756 ,\n",
       "         0.45500198, 0.34874314, 0.37452948, 0.32494417, 0.36822653,\n",
       "         0.29117066, 0.30559206, 0.30676752]], dtype=float32),\n",
       " 0.7068036)"
      ]
     },
     "execution_count": 53,
     "metadata": {},
     "output_type": "execute_result"
    }
   ],
   "source": [
    "result = np.array(model.similarity(sentence, to_test))\n",
    "index = np.argmax(result)\n",
    "confidence = np.max(result)\n",
    "detected_label = labels[index]\n",
    "index, detected_label, result, confidence"
   ]
  }
 ],
 "metadata": {
  "kernelspec": {
   "display_name": ".venv",
   "language": "python",
   "name": "python3"
  },
  "language_info": {
   "codemirror_mode": {
    "name": "ipython",
    "version": 3
   },
   "file_extension": ".py",
   "mimetype": "text/x-python",
   "name": "python",
   "nbconvert_exporter": "python",
   "pygments_lexer": "ipython3",
   "version": "3.8.10"
  }
 },
 "nbformat": 4,
 "nbformat_minor": 2
}
